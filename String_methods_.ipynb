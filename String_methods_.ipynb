{
 "cells": [
  {
   "cell_type": "markdown",
   "id": "99423029-862d-419e-a32b-f5935972aa02",
   "metadata": {},
   "source": [
    "***\n",
    "# STRING METHODS\n",
    "***"
   ]
  },
  {
   "cell_type": "markdown",
   "id": "11238a71-064b-4104-a3cb-2ce6e02d9e51",
   "metadata": {},
   "source": [
    "### 1.Capitalize()\n",
    "#### : first letter is capatalize here"
   ]
  },
  {
   "cell_type": "code",
   "execution_count": 43,
   "id": "bbae969d-c136-4a26-b544-d4021a8d2874",
   "metadata": {},
   "outputs": [
    {
     "name": "stdout",
     "output_type": "stream",
     "text": [
      "1.twinkle twinkle, little star\n"
     ]
    }
   ],
   "source": [
    "a='1.twinkle twinkle, little star'\n",
    "b = a.capitalize()\n",
    "print(b)"
   ]
  },
  {
   "cell_type": "code",
   "execution_count": 41,
   "id": "fc79dd6d-0d11-4f35-a1ac-a43ce5bd93c0",
   "metadata": {},
   "outputs": [
    {
     "name": "stdout",
     "output_type": "stream",
     "text": [
      "2.python\n"
     ]
    }
   ],
   "source": [
    "Py='2.python'\n",
    "jupyter=Py.capitalize()\n",
    "print(jupyter)"
   ]
  },
  {
   "cell_type": "markdown",
   "id": "304a21a3-5cbd-4fa5-b4ba-5eaff11514f8",
   "metadata": {},
   "source": [
    "### 2.Casefold()\n",
    "#### : makes string to lower case"
   ]
  },
  {
   "cell_type": "code",
   "execution_count": 37,
   "id": "da20f9f4-3fe0-4a67-ad24-0639089553bc",
   "metadata": {},
   "outputs": [
    {
     "name": "stdout",
     "output_type": "stream",
     "text": [
      "1.a_b_c_d_e_f_g_h\n"
     ]
    }
   ],
   "source": [
    "a='1.A_B_C_D_E_F_G_H'\n",
    "b = a.casefold()\n",
    "print(b)"
   ]
  },
  {
   "cell_type": "code",
   "execution_count": 39,
   "id": "ecfdae22-41fd-4632-a5d0-295b346bbbdd",
   "metadata": {},
   "outputs": [
    {
     "name": "stdout",
     "output_type": "stream",
     "text": [
      "2.sakshi sunil barai\n"
     ]
    }
   ],
   "source": [
    "Name='2.SAKSHI SUNIL BARAI'\n",
    "Lower=Name.casefold()\n",
    "print(Lower)"
   ]
  },
  {
   "cell_type": "markdown",
   "id": "152bf872-42d0-470c-98d7-16effba14a60",
   "metadata": {},
   "source": [
    "### 3. Center()\n",
    "#### : it will center align the string,we have to pass values inside round brackets"
   ]
  },
  {
   "cell_type": "code",
   "execution_count": 27,
   "id": "bb36006d-1f6e-4234-8147-c2df9895fb69",
   "metadata": {},
   "outputs": [
    {
     "name": "stdout",
     "output_type": "stream",
     "text": [
      " 1.A_B_C_D_E_F_G_H  \n"
     ]
    }
   ],
   "source": [
    "a='1.A_B_C_D_E_F_G_H'\n",
    "b = a.center(20)\n",
    "print(b) "
   ]
  },
  {
   "cell_type": "code",
   "execution_count": 29,
   "id": "eb285304-71cf-4a4d-a5ed-1ea56c930c97",
   "metadata": {},
   "outputs": [
    {
     "name": "stdout",
     "output_type": "stream",
     "text": [
      "                                          2.A is for Apple                                          \n"
     ]
    }
   ],
   "source": [
    "a='2.A is for Apple'\n",
    "b = a.center(100)\n",
    "print(b)"
   ]
  },
  {
   "cell_type": "markdown",
   "id": "8c8b7dc1-3dfd-4952-be1a-9b305073f076",
   "metadata": {},
   "source": [
    "### 4.Count()\n",
    "#### : returns the number of times a specified value occurs in a string"
   ]
  },
  {
   "cell_type": "code",
   "execution_count": 51,
   "id": "c86080c1-3fb2-4a8e-97bd-a0e9f1e06d69",
   "metadata": {},
   "outputs": [
    {
     "name": "stdout",
     "output_type": "stream",
     "text": [
      "3\n"
     ]
    }
   ],
   "source": [
    "Twister='1.Fuzzy Wuzzy was a bear. Fuzzy Wuzzy had no hair. Fuzzy Wuzzy wasn’t fuzzy, was he?'\n",
    "result=Twister.count('Fuzzy')\n",
    "print(result)"
   ]
  },
  {
   "cell_type": "code",
   "execution_count": 57,
   "id": "d4201cda-3ad6-453e-86ca-1773ec5e1229",
   "metadata": {},
   "outputs": [
    {
     "name": "stdout",
     "output_type": "stream",
     "text": [
      "2\n"
     ]
    }
   ],
   "source": [
    "twister= '2.Betty Botter bought some butter But she said the butter’s bitter If I put it in my batter, it will make my batter bitter But a bit of better butter will make my batter better'\n",
    "result=twister.count('bitter')\n",
    "print(result)"
   ]
  },
  {
   "cell_type": "markdown",
   "id": "3a066093-ba96-485d-85b4-ecd42812fa01",
   "metadata": {},
   "source": [
    "### 5.Encode()\n",
    "#### : returns an encoded version of the string. "
   ]
  },
  {
   "cell_type": "code",
   "execution_count": 92,
   "id": "1cc37de4-070e-4750-af03-c5e3095e577e",
   "metadata": {},
   "outputs": [
    {
     "name": "stdout",
     "output_type": "stream",
     "text": [
      "b'S\\xc3\\xa5ksh#'\n"
     ]
    }
   ],
   "source": [
    "a= 'Såksh#'\n",
    "result=a.encode()\n",
    "print(result)"
   ]
  },
  {
   "cell_type": "code",
   "execution_count": 94,
   "id": "28766bc4-4c2d-4578-844d-da19887f4fbe",
   "metadata": {},
   "outputs": [
    {
     "name": "stdout",
     "output_type": "stream",
     "text": [
      "b'S\\\\N{LATIN SMALL LETTER A WITH RING ABOVE}kshi@'\n"
     ]
    }
   ],
   "source": [
    "a= 'Såkshi@'\n",
    "result=a.encode(encoding='ascii',errors='namereplace')\n",
    "print(result)"
   ]
  },
  {
   "cell_type": "markdown",
   "id": "2d0036a6-168d-446e-90e3-f3ab0c5fc0d7",
   "metadata": {},
   "source": [
    "### 6.Endswith()\n",
    "#### : returns true if the string ends with the specified value"
   ]
  },
  {
   "cell_type": "code",
   "execution_count": 4,
   "id": "de3912a8-237c-447a-84a9-4554d6d9d4f7",
   "metadata": {},
   "outputs": [
    {
     "name": "stdout",
     "output_type": "stream",
     "text": [
      "True\n"
     ]
    }
   ],
   "source": [
    "a='Sakshi.'\n",
    "b=a.endswith('.')\n",
    "print(b)"
   ]
  },
  {
   "cell_type": "code",
   "execution_count": 20,
   "id": "4ca76dd4-8378-49bf-b94a-dbcbe0e2d197",
   "metadata": {},
   "outputs": [
    {
     "name": "stdout",
     "output_type": "stream",
     "text": [
      "True\n"
     ]
    }
   ],
   "source": [
    "a='Helloooo!!!'\n",
    "b=a.endswith('!')\n",
    "print(b)"
   ]
  },
  {
   "cell_type": "markdown",
   "id": "7bd4b437-775b-4ee3-ac7f-f5f47e6b10ae",
   "metadata": {},
   "source": [
    "### 7.ExpandTabs()\n",
    "#### :method sets the tab size to the specified number of whitespaces"
   ]
  },
  {
   "cell_type": "code",
   "execution_count": 23,
   "id": "63808e96-6b12-4c52-826c-ee4abc3c67d9",
   "metadata": {},
   "outputs": [
    {
     "name": "stdout",
     "output_type": "stream",
     "text": [
      "a       b       c       d       e       f       g\n"
     ]
    }
   ],
   "source": [
    "a='a\\tb\\tc\\td\\te\\tf\\tg'\n",
    "b=a.expandtabs()\n",
    "print(b)"
   ]
  },
  {
   "cell_type": "code",
   "execution_count": 31,
   "id": "c96e3033-feb8-492d-862a-64b7dcbc9ecf",
   "metadata": {},
   "outputs": [
    {
     "name": "stdout",
     "output_type": "stream",
     "text": [
      "twinkle             twinkle             little              star.\n"
     ]
    }
   ],
   "source": [
    "a='twinkle\\ttwinkle\\tlittle\\tstar.'\n",
    "b=a.expandtabs(20)\n",
    "print(b)"
   ]
  },
  {
   "cell_type": "markdown",
   "id": "8a891092-8446-41c6-b0ee-730a8246791c",
   "metadata": {},
   "source": [
    "### 8.Find()\n",
    "#### : searches the string for a specified value and returns the position of where it was found"
   ]
  },
  {
   "cell_type": "code",
   "execution_count": 40,
   "id": "c99d6485-a528-4dc6-8021-158f366cb99d",
   "metadata": {},
   "outputs": [
    {
     "name": "stdout",
     "output_type": "stream",
     "text": [
      "11\n"
     ]
    }
   ],
   "source": [
    "a='The wheels on the bus go Round and round all through the town'\n",
    "b=a.find('on')\n",
    "print(b)"
   ]
  },
  {
   "cell_type": "code",
   "execution_count": 50,
   "id": "0700b0f0-32b4-4890-86d1-2719778acf34",
   "metadata": {},
   "outputs": [
    {
     "name": "stdout",
     "output_type": "stream",
     "text": [
      "12\n"
     ]
    }
   ],
   "source": [
    "a='   _  abcdfd@gmail.com'\n",
    "b=a.find('@')\n",
    "print(b)"
   ]
  },
  {
   "cell_type": "markdown",
   "id": "8a81dcf8-22e2-4569-bd65-5486a2b6a92e",
   "metadata": {},
   "source": [
    "### 9.Format()\n",
    "#### :formats specified values in a string"
   ]
  },
  {
   "cell_type": "code",
   "execution_count": 75,
   "id": "867611d6-e4e3-4193-a3a5-b712befa6bf3",
   "metadata": {},
   "outputs": [
    {
     "name": "stdout",
     "output_type": "stream",
     "text": [
      "My name is Sakshi ,i am 22 years old.\n"
     ]
    }
   ],
   "source": [
    "a='My name is {name} ,i am {age} years old.'\n",
    "b=a.format(name='Sakshi',age=22)\n",
    "print(b)"
   ]
  },
  {
   "cell_type": "code",
   "execution_count": 226,
   "id": "d1c5d6cb-11b6-41be-af69-7142bcd98bc0",
   "metadata": {},
   "outputs": [
    {
     "name": "stdout",
     "output_type": "stream",
     "text": [
      "medicine costs is 1299.00 Rupees\n"
     ]
    }
   ],
   "source": [
    "a='medicine costs is {price:.2f} Rupees'\n",
    "b=a.format(price=1299)\n",
    "print(b)"
   ]
  },
  {
   "cell_type": "markdown",
   "id": "bb7f33df-fcc3-48e2-947a-8650500ea8d0",
   "metadata": {},
   "source": [
    "### 10.Index()\n",
    "#### :searches the string for a specified value and returns the position of where it was found"
   ]
  },
  {
   "cell_type": "code",
   "execution_count": 81,
   "id": "d3fe1100-3297-49e9-bdd9-65356652dcd6",
   "metadata": {},
   "outputs": [
    {
     "name": "stdout",
     "output_type": "stream",
     "text": [
      "7\n"
     ]
    }
   ],
   "source": [
    "a='PYTHON Jupyter Notebook'\n",
    "b=a.index('Jupyter')\n",
    "print(b)"
   ]
  },
  {
   "cell_type": "code",
   "execution_count": 83,
   "id": "d916fc49-f785-4609-b468-476cdb3d968c",
   "metadata": {},
   "outputs": [
    {
     "name": "stdout",
     "output_type": "stream",
     "text": [
      "19\n"
     ]
    }
   ],
   "source": [
    "a='PYTHON Jupyter Notebook'\n",
    "b=a.index('book')\n",
    "print(b)"
   ]
  },
  {
   "cell_type": "code",
   "execution_count": 93,
   "id": "3fb6cecf-9750-4b0b-802d-166044893c9c",
   "metadata": {},
   "outputs": [
    {
     "name": "stdout",
     "output_type": "stream",
     "text": [
      "0\n"
     ]
    }
   ],
   "source": [
    "a='PYTHON Jupyter Notebook'\n",
    "b=a.index('PY')\n",
    "print(b)"
   ]
  },
  {
   "cell_type": "markdown",
   "id": "92d5e1dd-fdfe-4848-9297-1ea32261d6b4",
   "metadata": {},
   "source": [
    "### 11.isalnum()\n",
    "#### : returns True if all the characters are alphanumeric, meaning alphabet letter (a-z) and numbers (0-9)"
   ]
  },
  {
   "cell_type": "code",
   "execution_count": 111,
   "id": "41f7c138-f26a-4bad-9198-90cd2f2d9e84",
   "metadata": {},
   "outputs": [
    {
     "name": "stdout",
     "output_type": "stream",
     "text": [
      "True\n"
     ]
    }
   ],
   "source": [
    "a='Vadapav'\n",
    "b=a.isalnum()\n",
    "print(b)"
   ]
  },
  {
   "cell_type": "code",
   "execution_count": 115,
   "id": "ab4902f5-267f-4339-bb07-ad07999df261",
   "metadata": {},
   "outputs": [
    {
     "name": "stdout",
     "output_type": "stream",
     "text": [
      "False\n"
     ]
    }
   ],
   "source": [
    "a='!@**^abcdefg'\n",
    "b=a.isalnum()\n",
    "print(b)"
   ]
  },
  {
   "cell_type": "markdown",
   "id": "d60294ad-42cb-42eb-b42f-195db36eb910",
   "metadata": {},
   "source": [
    "### 12.Isalpha()\n",
    "#### :returns True if all the characters are alphabet letters (a-z)"
   ]
  },
  {
   "cell_type": "code",
   "execution_count": 123,
   "id": "b3245502-7e9a-4c36-ad1e-b91437d91a57",
   "metadata": {},
   "outputs": [
    {
     "name": "stdout",
     "output_type": "stream",
     "text": [
      "True\n"
     ]
    }
   ],
   "source": [
    "a='LaughterChefs'\n",
    "b=a.isalpha()\n",
    "print(b)"
   ]
  },
  {
   "cell_type": "code",
   "execution_count": 125,
   "id": "b0bd2833-9e78-4a49-8ac1-32972ba2c225",
   "metadata": {},
   "outputs": [
    {
     "name": "stdout",
     "output_type": "stream",
     "text": [
      "False\n"
     ]
    }
   ],
   "source": [
    "a='Laughter_Chefs'\n",
    "b=a.isalpha()\n",
    "print(b)"
   ]
  },
  {
   "cell_type": "markdown",
   "id": "6994c88e-73ca-44cc-8743-fc6ce23e5d66",
   "metadata": {},
   "source": [
    "### 13.isascii()\n",
    "#### :returns True if all characters in the string are ascii characters"
   ]
  },
  {
   "cell_type": "code",
   "execution_count": 127,
   "id": "e2e66906-75c4-44b4-8519-ed69a0e40ce4",
   "metadata": {},
   "outputs": [
    {
     "name": "stdout",
     "output_type": "stream",
     "text": [
      "True\n"
     ]
    }
   ],
   "source": [
    "a='AaBbCcddddd'\n",
    "b=a.isascii()\n",
    "print(b)"
   ]
  },
  {
   "cell_type": "code",
   "execution_count": 131,
   "id": "0f0c31fa-dc6c-42ca-8263-8cbb1f2b8826",
   "metadata": {},
   "outputs": [
    {
     "name": "stdout",
     "output_type": "stream",
     "text": [
      "True\n"
     ]
    }
   ],
   "source": [
    "a='Aa@Bb$1234'\n",
    "b=a.isascii()\n",
    "print(b)"
   ]
  },
  {
   "cell_type": "markdown",
   "id": "c38b7314-eb6e-4f94-9094-235022b79a39",
   "metadata": {},
   "source": [
    "### 14.isdecimal()\n",
    "#### :returns True if all characters in the string are decimals"
   ]
  },
  {
   "cell_type": "code",
   "execution_count": 135,
   "id": "8d550849-f12b-4a7f-8e51-095aecd39b0f",
   "metadata": {},
   "outputs": [
    {
     "name": "stdout",
     "output_type": "stream",
     "text": [
      "False\n"
     ]
    }
   ],
   "source": [
    "a='S.a.k.s.h.i'\n",
    "b=a.isdecimal()\n",
    "print(b)"
   ]
  },
  {
   "cell_type": "code",
   "execution_count": 141,
   "id": "8131eb3a-0723-47ad-83d1-817aa87716fb",
   "metadata": {},
   "outputs": [
    {
     "name": "stdout",
     "output_type": "stream",
     "text": [
      "True\n"
     ]
    }
   ],
   "source": [
    "a='2345678'\n",
    "b=a.isdecimal()\n",
    "print(b)"
   ]
  },
  {
   "cell_type": "markdown",
   "id": "3b474a9b-2091-46ad-9bbd-e57b7164c61f",
   "metadata": {},
   "source": [
    "### 15.isdigit()\n",
    "#### :returns True if all the characters are digits, otherwise False"
   ]
  },
  {
   "cell_type": "code",
   "execution_count": 143,
   "id": "b3a00789-620b-4e06-be70-8d29bf219e3e",
   "metadata": {},
   "outputs": [
    {
     "name": "stdout",
     "output_type": "stream",
     "text": [
      "False\n"
     ]
    }
   ],
   "source": [
    "a='14Sak'\n",
    "b=a.isdigit()\n",
    "print(b)"
   ]
  },
  {
   "cell_type": "code",
   "execution_count": 145,
   "id": "84c13a4e-be8c-4441-91fd-8b41f1c0d843",
   "metadata": {},
   "outputs": [
    {
     "name": "stdout",
     "output_type": "stream",
     "text": [
      "True\n"
     ]
    }
   ],
   "source": [
    "a='2024'\n",
    "b=a.isdigit()\n",
    "print(b)"
   ]
  },
  {
   "cell_type": "code",
   "execution_count": 147,
   "id": "bd098e2d-bc80-4261-9b22-61c204a9f43e",
   "metadata": {},
   "outputs": [
    {
     "name": "stdout",
     "output_type": "stream",
     "text": [
      "False\n"
     ]
    }
   ],
   "source": [
    "a='29/09/2024'\n",
    "b=a.isdigit()\n",
    "print(b)"
   ]
  },
  {
   "cell_type": "markdown",
   "id": "f41ff234-c49f-4a5c-83ee-73b56e92bba9",
   "metadata": {},
   "source": [
    "### 16.isidentifier()\n",
    "#### :returns True if the string is a valid identifier, otherwise False.\n",
    "*Note: A valid identifier cannot start with a number, or contain any spaces.*\r\n",
    "\r\n"
   ]
  },
  {
   "cell_type": "code",
   "execution_count": 165,
   "id": "2943e78f-e1b5-414b-bd13-2bd8a9313558",
   "metadata": {},
   "outputs": [
    {
     "name": "stdout",
     "output_type": "stream",
     "text": [
      "False\n"
     ]
    }
   ],
   "source": [
    "a='@'\n",
    "b=a.isidentifier()\n",
    "print(b)"
   ]
  },
  {
   "cell_type": "code",
   "execution_count": 153,
   "id": "21f7a3d0-f2bd-428c-bf6a-20874f471bc0",
   "metadata": {},
   "outputs": [
    {
     "name": "stdout",
     "output_type": "stream",
     "text": [
      "True\n"
     ]
    }
   ],
   "source": [
    "a='and'\n",
    "b=a.isidentifier()\n",
    "print(b)"
   ]
  },
  {
   "cell_type": "code",
   "execution_count": 157,
   "id": "86ad12fd-f9cd-4b1f-8fb0-61d358f736b8",
   "metadata": {},
   "outputs": [
    {
     "name": "stdout",
     "output_type": "stream",
     "text": [
      "True\n"
     ]
    }
   ],
   "source": [
    "a='from'\n",
    "b=a.isidentifier()\n",
    "print(b)"
   ]
  },
  {
   "cell_type": "markdown",
   "id": "ad45fd15-1162-4bbe-8471-17cd42b5dce9",
   "metadata": {},
   "source": [
    "### 17.islower()\n",
    "#### :returns True if all characters in the string are lower case"
   ]
  },
  {
   "cell_type": "code",
   "execution_count": 171,
   "id": "6ad22a1c-2249-4e37-aef1-4b141f5cec3a",
   "metadata": {},
   "outputs": [
    {
     "name": "stdout",
     "output_type": "stream",
     "text": [
      "False\n"
     ]
    }
   ],
   "source": [
    "a='We LOVE our INDIA'\n",
    "b=a.islower()\n",
    "print(b)"
   ]
  },
  {
   "cell_type": "code",
   "execution_count": 173,
   "id": "38732044-132c-4cf2-aaa8-03376d1f6e6c",
   "metadata": {},
   "outputs": [
    {
     "name": "stdout",
     "output_type": "stream",
     "text": [
      "True\n"
     ]
    }
   ],
   "source": [
    "a='we love our india'\n",
    "b=a.islower()\n",
    "print(b)"
   ]
  },
  {
   "cell_type": "markdown",
   "id": "fdabdcf9-e6f0-4993-b91c-e8729cb9f648",
   "metadata": {},
   "source": [
    "### 18.isnumeric()\n",
    "#### :returns True if all the characters are numeric (0-9), otherwise False\n",
    "*\"-1\" and \"1.5\" are NOT considered numeric values*"
   ]
  },
  {
   "cell_type": "code",
   "execution_count": 181,
   "id": "a88422bd-3304-4e53-ae0c-ee33b240de6b",
   "metadata": {},
   "outputs": [
    {
     "name": "stdout",
     "output_type": "stream",
     "text": [
      "True\n"
     ]
    }
   ],
   "source": [
    "a='1234000'\n",
    "b=a.isnumeric()\n",
    "print(b)"
   ]
  },
  {
   "cell_type": "code",
   "execution_count": 183,
   "id": "c15994ac-74f4-4a0d-9b18-b2d11e39d765",
   "metadata": {},
   "outputs": [
    {
     "name": "stdout",
     "output_type": "stream",
     "text": [
      "False\n"
     ]
    }
   ],
   "source": [
    "a='1234,000'\n",
    "b=a.isnumeric()\n",
    "print(b)"
   ]
  },
  {
   "cell_type": "markdown",
   "id": "f4aa89b3-db73-4768-a32e-1aa09f519a6b",
   "metadata": {},
   "source": [
    "### 19.isprintable()\n",
    "#### :returns True if all characters in the string are printable\n"
   ]
  },
  {
   "cell_type": "code",
   "execution_count": 186,
   "id": "bf89d04a-6cff-4eb4-9e9b-1133730aaaa4",
   "metadata": {},
   "outputs": [
    {
     "name": "stdout",
     "output_type": "stream",
     "text": [
      "True\n"
     ]
    }
   ],
   "source": [
    "a='Am i printable? I think Yess!!!'\n",
    "b=a.isprintable()\n",
    "print(b)"
   ]
  },
  {
   "cell_type": "code",
   "execution_count": 192,
   "id": "d2c0bb04-acef-4df1-82fc-01ced54424fd",
   "metadata": {},
   "outputs": [
    {
     "name": "stdout",
     "output_type": "stream",
     "text": [
      "False\n"
     ]
    }
   ],
   "source": [
    "a='Am i \\t printable? '\n",
    "b=a.isprintable()\n",
    "print(b)"
   ]
  },
  {
   "cell_type": "markdown",
   "id": "3bcf32fd-236f-4ad0-b1a7-e5692d7bd389",
   "metadata": {},
   "source": [
    "### 20.isspace()\n",
    "#### : returns True if all the characters in a string are whitespaces"
   ]
  },
  {
   "cell_type": "code",
   "execution_count": 196,
   "id": "c889f1de-d044-49e5-881d-6b5e8bf70ce7",
   "metadata": {},
   "outputs": [
    {
     "name": "stdout",
     "output_type": "stream",
     "text": [
      "False\n"
     ]
    }
   ],
   "source": [
    "a='A     B      C    D'\n",
    "b=a.isspace()\n",
    "print(b)"
   ]
  },
  {
   "cell_type": "code",
   "execution_count": 198,
   "id": "305fd305-4690-443b-8bc1-eb214933ab42",
   "metadata": {},
   "outputs": [
    {
     "name": "stdout",
     "output_type": "stream",
     "text": [
      "True\n"
     ]
    }
   ],
   "source": [
    "a='      '\n",
    "b=a.isspace()\n",
    "print(b)"
   ]
  },
  {
   "cell_type": "markdown",
   "id": "1475888e-b82d-4ed4-80b5-4fca5b1661f0",
   "metadata": {},
   "source": [
    "### 21.istitle\n",
    "#### : returns True if all words in a text start with a upper case letter,and the rest of the word are lower case letters"
   ]
  },
  {
   "cell_type": "code",
   "execution_count": 210,
   "id": "315f605f-1b74-4d7e-ac17-72b731ab7ab8",
   "metadata": {},
   "outputs": [
    {
     "name": "stdout",
     "output_type": "stream",
     "text": [
      "False\n"
     ]
    }
   ],
   "source": [
    "a='The Wheels on the Bus.'\n",
    "b=a.istitle()\n",
    "print(b)"
   ]
  },
  {
   "cell_type": "code",
   "execution_count": 212,
   "id": "2f67aa97-86c3-4d2b-a6e2-b51ff6d94298",
   "metadata": {},
   "outputs": [
    {
     "name": "stdout",
     "output_type": "stream",
     "text": [
      "True\n"
     ]
    }
   ],
   "source": [
    "a='The Wheels On The Bus.'\n",
    "b=a.istitle()\n",
    "print(b)"
   ]
  },
  {
   "cell_type": "markdown",
   "id": "0a6262fb-d45a-4433-9151-51e6b224d395",
   "metadata": {},
   "source": [
    "### 22.isupper()\n",
    "#### : returns True if all characters in the string are upper case"
   ]
  },
  {
   "cell_type": "code",
   "execution_count": 214,
   "id": "a3371924-b36c-4545-80ec-96ffca638c11",
   "metadata": {},
   "outputs": [
    {
     "name": "stdout",
     "output_type": "stream",
     "text": [
      "False\n"
     ]
    }
   ],
   "source": [
    "a='Twinkle Twinkle'\n",
    "b=a.isupper()\n",
    "print(b)"
   ]
  },
  {
   "cell_type": "code",
   "execution_count": 216,
   "id": "c9aedfdf-c398-4975-bc70-1ac7db0082bc",
   "metadata": {},
   "outputs": [
    {
     "name": "stdout",
     "output_type": "stream",
     "text": [
      "True\n"
     ]
    }
   ],
   "source": [
    "a='TWINKLE TWINKLE'\n",
    "b=a.isupper()\n",
    "print(b)"
   ]
  },
  {
   "cell_type": "markdown",
   "id": "82aaf70f-9107-4f41-b0da-97bfbe6a417b",
   "metadata": {},
   "source": [
    "### 23.join()\n",
    "#### : method takes all items in an iterable and joins them into one string"
   ]
  },
  {
   "cell_type": "code",
   "execution_count": 218,
   "id": "77fd8a73-5890-44c5-87bc-921cf0f33fbb",
   "metadata": {},
   "outputs": [
    {
     "name": "stdout",
     "output_type": "stream",
     "text": [
      "Apple---Banana---Cat\n"
     ]
    }
   ],
   "source": [
    "a=('Apple','Banana','Cat')\n",
    "b='---'.join(a)\n",
    "print(b)"
   ]
  },
  {
   "cell_type": "code",
   "execution_count": 220,
   "id": "bb3a3c84-af06-4573-a9b5-efec12e05728",
   "metadata": {},
   "outputs": [
    {
     "name": "stdout",
     "output_type": "stream",
     "text": [
      "12345678__2345678__345678__45678__5678__678__78__8\n"
     ]
    }
   ],
   "source": [
    "a=('12345678','2345678','345678','45678','5678','678','78','8')\n",
    "b='__'.join(a)\n",
    "print(b)"
   ]
  },
  {
   "cell_type": "markdown",
   "id": "55d66004-06fa-4393-845c-af417893b1d5",
   "metadata": {},
   "source": [
    "### 24.ljust()\n",
    "#### : method will left align the string, using a specified character () inside brackets as the fill character"
   ]
  },
  {
   "cell_type": "code",
   "execution_count": 236,
   "id": "2dc1c669-fab9-4eb1-98cb-4bbafe3dad4d",
   "metadata": {},
   "outputs": [
    {
     "name": "stdout",
     "output_type": "stream",
     "text": [
      "Ambani     are rich people.\n"
     ]
    }
   ],
   "source": [
    "a='Ambani'\n",
    "b=a.ljust(10)\n",
    "print(b,'are rich people.')"
   ]
  },
  {
   "cell_type": "code",
   "execution_count": 240,
   "id": "d4be84f0-5be1-4abf-a1fa-db1c42c3fbac",
   "metadata": {},
   "outputs": [
    {
     "name": "stdout",
     "output_type": "stream",
     "text": [
      "Peocock                                   :is national bird.\n"
     ]
    }
   ],
   "source": [
    "a='Peocock'\n",
    "b=a.ljust(40)\n",
    "print(b,' :is national bird.')"
   ]
  },
  {
   "cell_type": "markdown",
   "id": "b1f02518-111d-473a-8f34-3848cf3fcb9d",
   "metadata": {},
   "source": [
    "### 25.lower()\n",
    "#### :converts a string into lower case"
   ]
  },
  {
   "cell_type": "code",
   "execution_count": 250,
   "id": "e868cf30-1203-45bf-b5f7-3448d7fea6a2",
   "metadata": {},
   "outputs": [
    {
     "name": "stdout",
     "output_type": "stream",
     "text": [
      "abcd\n"
     ]
    }
   ],
   "source": [
    "a='ABCD'\n",
    "b=a.lower()\n",
    "print(b)"
   ]
  },
  {
   "cell_type": "code",
   "execution_count": 252,
   "id": "54fdddff-9a05-4141-8198-2fcac7044e96",
   "metadata": {},
   "outputs": [
    {
     "name": "stdout",
     "output_type": "stream",
     "text": [
      "i love my india\n"
     ]
    }
   ],
   "source": [
    "a='I LOVE MY INDIA'\n",
    "b=a.lower()\n",
    "print(b)"
   ]
  },
  {
   "cell_type": "markdown",
   "id": "95b3aad2-c676-43f1-875f-c2e529fc032b",
   "metadata": {},
   "source": [
    "### 26.lstrip()\n",
    "#### :returns a left trim version of the string"
   ]
  },
  {
   "cell_type": "code",
   "execution_count": 19,
   "id": "14181f17-1ca0-4581-b66d-afdd7f291257",
   "metadata": {},
   "outputs": [
    {
     "name": "stdout",
     "output_type": "stream",
     "text": [
      "Music heals         heals the soul\n"
     ]
    }
   ],
   "source": [
    "a='           heals        '\n",
    "b=a.lstrip()\n",
    "print('Music',b,'heals the soul')"
   ]
  },
  {
   "cell_type": "code",
   "execution_count": 25,
   "id": "d4c69bb4-0fe7-45dc-8f96-a1f5ccf3dca3",
   "metadata": {},
   "outputs": [
    {
     "name": "stdout",
     "output_type": "stream",
     "text": [
      "Very Good attempt!!\n"
     ]
    }
   ],
   "source": [
    "a='                 Good'\n",
    "b=a.lstrip()\n",
    "print('Very',b,'attempt!!')"
   ]
  },
  {
   "cell_type": "markdown",
   "id": "01b6879c-d99f-4de1-aa45-f93335181435",
   "metadata": {},
   "source": [
    "### 27.maketrans()\n",
    "#### :returns a mapping table that can be used with the translate() method to replace specified characters"
   ]
  },
  {
   "cell_type": "code",
   "execution_count": 49,
   "id": "1a099fc5-187e-4ba2-bc89-055b9114da8e",
   "metadata": {},
   "outputs": [
    {
     "name": "stdout",
     "output_type": "stream",
     "text": [
      "Dog Eats Bones\n"
     ]
    }
   ],
   "source": [
    "a='Dog Sats Bones'\n",
    "b=str.maketrans('S','E' )\n",
    "c=a.translate(b)\n",
    "print(c)"
   ]
  },
  {
   "cell_type": "code",
   "execution_count": 55,
   "id": "a92e5453-9877-4549-901d-6303717741a2",
   "metadata": {},
   "outputs": [
    {
     "name": "stdout",
     "output_type": "stream",
     "text": [
      "One Two Three___ Four\n"
     ]
    }
   ],
   "source": [
    "a='One Two Three___ Wour'\n",
    "b=str.maketrans('W','F')\n",
    "c=a.translate(b)\n",
    "print(c)"
   ]
  },
  {
   "cell_type": "markdown",
   "id": "532fb43b-18ec-4186-818d-b682ac931db3",
   "metadata": {},
   "source": [
    "### 28.partition()\n",
    "#### :returns a tuple where the string is parted into three parts"
   ]
  },
  {
   "cell_type": "code",
   "execution_count": 59,
   "id": "810f93bc-30ba-4695-a274-d319fa6e05f3",
   "metadata": {},
   "outputs": [
    {
     "name": "stdout",
     "output_type": "stream",
     "text": [
      "('First Second____', 'Third', ' _______Fourth Fifth')\n"
     ]
    }
   ],
   "source": [
    "a='First Second____Third _______Fourth Fifth'\n",
    "b=a.partition('Third')\n",
    "print(b)"
   ]
  },
  {
   "cell_type": "code",
   "execution_count": 61,
   "id": "c218d053-829d-4c0e-9ec9-d032a527c2bc",
   "metadata": {},
   "outputs": [
    {
     "name": "stdout",
     "output_type": "stream",
     "text": [
      "('Heart Fails', ',', 'He dies.')\n"
     ]
    }
   ],
   "source": [
    "a='Heart Fails,He dies.'\n",
    "b=a.partition(',')\n",
    "print(b)"
   ]
  },
  {
   "cell_type": "markdown",
   "id": "b601743f-d444-4277-a14b-2f1e5419eae4",
   "metadata": {},
   "source": [
    "### 29.replace()\n",
    "#### : replaces a specified phrase with another specified phrase"
   ]
  },
  {
   "cell_type": "code",
   "execution_count": 63,
   "id": "ea8e7021-ec5b-483e-9e8f-4cc2338856c4",
   "metadata": {},
   "outputs": [
    {
     "name": "stdout",
     "output_type": "stream",
     "text": [
      "Ram was a bear. Ram had no hair. Ram wasn’t fuzzy, was he?\n"
     ]
    }
   ],
   "source": [
    "a='Fuzzy Wuzzy was a bear. Fuzzy Wuzzy had no hair. Fuzzy Wuzzy wasn’t fuzzy, was he?'\n",
    "b=a.replace('Fuzzy Wuzzy','Ram')\n",
    "print(b)"
   ]
  },
  {
   "cell_type": "code",
   "execution_count": 67,
   "id": "4d7cb5d6-8fd7-4d3e-a9c1-af6baa4ed1b1",
   "metadata": {},
   "outputs": [
    {
     "name": "stdout",
     "output_type": "stream",
     "text": [
      "काम काम के काम को कामो, काम कामना भी एक काम है ||\n"
     ]
    }
   ],
   "source": [
    "a='समझ समझ के समझ को समझो, समझ समझना भी एक समझ है ||'\n",
    "b=a.replace('समझ','काम')\n",
    "print(b)"
   ]
  },
  {
   "cell_type": "markdown",
   "id": "ce20aec2-47a0-41fa-9b26-7fcdd5427b49",
   "metadata": {},
   "source": [
    "### 30.rfind()\n",
    "#### : method finds the last occurrence of the specified value ,returns -1 if value was not found"
   ]
  },
  {
   "cell_type": "code",
   "execution_count": 71,
   "id": "40041dc7-c19a-487c-b701-61da1fec7a83",
   "metadata": {},
   "outputs": [
    {
     "name": "stdout",
     "output_type": "stream",
     "text": [
      "-1\n"
     ]
    }
   ],
   "source": [
    "a='Life is beautiful'\n",
    "b=a.rfind('only')\n",
    "print(b)"
   ]
  },
  {
   "cell_type": "code",
   "execution_count": 81,
   "id": "b8717956-105f-4334-a642-e66ecf0bf499",
   "metadata": {},
   "outputs": [
    {
     "name": "stdout",
     "output_type": "stream",
     "text": [
      "2\n"
     ]
    }
   ],
   "source": [
    "a='Life is beautiful'\n",
    "b=a.rfind('fe')\n",
    "print(b)"
   ]
  },
  {
   "cell_type": "markdown",
   "id": "1a230aa4-414b-4709-a933-b4ea20fd51c6",
   "metadata": {},
   "source": [
    "### 31.rindex()\n",
    "#### : searches the string for a specified value and returns the last position of where it was found"
   ]
  },
  {
   "cell_type": "code",
   "execution_count": 85,
   "id": "819ab8c6-1127-49ff-b7fe-32fda7a5031c",
   "metadata": {},
   "outputs": [
    {
     "name": "stdout",
     "output_type": "stream",
     "text": [
      "19\n"
     ]
    }
   ],
   "source": [
    "a='Spreads positivity and be patient my freind.'\n",
    "b=a.index('and')\n",
    "print(b)"
   ]
  },
  {
   "cell_type": "code",
   "execution_count": 87,
   "id": "c3fc3b78-2c00-407f-9756-0ee37504148e",
   "metadata": {},
   "outputs": [
    {
     "name": "stdout",
     "output_type": "stream",
     "text": [
      "11\n"
     ]
    }
   ],
   "source": [
    "a='Be like Water'\n",
    "b=a.rfind('e')\n",
    "print(b)"
   ]
  },
  {
   "cell_type": "markdown",
   "id": "3985cf1d-0c91-480f-9f14-8b5f04e9bb36",
   "metadata": {},
   "source": [
    "### 32.rjust()\n",
    "#### : method will right align the string, using a specified character () inside the brackets as the fill character"
   ]
  },
  {
   "cell_type": "code",
   "execution_count": 91,
   "id": "3f6522ee-d176-4b4e-b704-89b32975c21c",
   "metadata": {},
   "outputs": [
    {
     "name": "stdout",
     "output_type": "stream",
     "text": [
      "            An apple a day keeps doctor away\n"
     ]
    }
   ],
   "source": [
    "a='An apple'\n",
    "b='a day keeps doctor away'\n",
    "c=a.rjust(20)\n",
    "print(c,b)"
   ]
  },
  {
   "cell_type": "code",
   "execution_count": 93,
   "id": "556fe903-8ba2-442a-8574-029758bad381",
   "metadata": {},
   "outputs": [
    {
     "name": "stdout",
     "output_type": "stream",
     "text": [
      "                                    I like oranges\n"
     ]
    }
   ],
   "source": [
    "a='I like oranges'\n",
    "b=a.rjust(50)\n",
    "print(b)"
   ]
  },
  {
   "cell_type": "markdown",
   "id": "5e39dc75-c7a3-4ab0-bbc2-1584412b14d3",
   "metadata": {},
   "source": [
    "### 33.rpartition()\n",
    "#### :returns a tuple where the string is parted into three parts"
   ]
  },
  {
   "cell_type": "code",
   "execution_count": 101,
   "id": "50ce4bf9-0e2e-4b25-ae02-92aecc0f021e",
   "metadata": {},
   "outputs": [
    {
     "name": "stdout",
     "output_type": "stream",
     "text": [
      "('An apple a day ', '--', 'keeps doctor away')\n"
     ]
    }
   ],
   "source": [
    "a='An apple a day --keeps doctor away'\n",
    "b=a.rpartition('--')\n",
    "print(b)"
   ]
  },
  {
   "cell_type": "code",
   "execution_count": 103,
   "id": "9e3e58d6-b25a-4eba-baf3-60ba8fd0a3b7",
   "metadata": {},
   "outputs": [
    {
     "name": "stdout",
     "output_type": "stream",
     "text": [
      "('I am ', 'glad', ' you liked it')\n"
     ]
    }
   ],
   "source": [
    "a='I am glad you liked it'\n",
    "b=a.rpartition('glad')\n",
    "print(b)"
   ]
  },
  {
   "cell_type": "markdown",
   "id": "17e50929-970f-4aa6-b80a-43f53f8473a2",
   "metadata": {},
   "source": [
    "### 34.rsplit()\n",
    "#### :splits a string into a list, starting from the right"
   ]
  },
  {
   "cell_type": "code",
   "execution_count": 107,
   "id": "48e83a4a-7e8c-468b-a9df-3aa0841c751f",
   "metadata": {},
   "outputs": [
    {
     "name": "stdout",
     "output_type": "stream",
     "text": [
      "['Spreads positivity ', ' Be patient my freind.']\n"
     ]
    }
   ],
   "source": [
    "a='Spreads positivity and Be patient my freind.'\n",
    "b=a.rsplit('and')\n",
    "print(b)"
   ]
  },
  {
   "cell_type": "code",
   "execution_count": 109,
   "id": "ae54b78c-d956-4049-a13b-a22467ac41d2",
   "metadata": {},
   "outputs": [
    {
     "name": "stdout",
     "output_type": "stream",
     "text": [
      "['1+2=3 ', ' 4*2=8']\n"
     ]
    }
   ],
   "source": [
    "a='1+2=3 ; 4*2=8'\n",
    "b=a.rsplit(';')\n",
    "print(b)"
   ]
  },
  {
   "cell_type": "markdown",
   "id": "20574ba1-724a-4578-9749-70903acb3761",
   "metadata": {},
   "source": [
    "### 35.rstrip()\t\n",
    "#### :returns a right trim version of the string"
   ]
  },
  {
   "cell_type": "code",
   "execution_count": 121,
   "id": "320c8c92-36a2-42a5-8d01-71b1028f6ca4",
   "metadata": {},
   "outputs": [
    {
     "name": "stdout",
     "output_type": "stream",
     "text": [
      "   Humpty Dumpty sat on a wall, Humpty Dumpty had a great fall\n"
     ]
    }
   ],
   "source": [
    "a='   Humpty Dumpty sat on a wall,          '\n",
    "b='Humpty Dumpty had a great fall'\n",
    "c=a.rstrip()\n",
    "print(c,b)"
   ]
  },
  {
   "cell_type": "code",
   "execution_count": 127,
   "id": "e51737e4-8085-49ba-bf09-efa6e1d4452e",
   "metadata": {},
   "outputs": [
    {
     "name": "stdout",
     "output_type": "stream",
     "text": [
      "   One, two, buckle my shoe; Three, four,     knock at the door.    \n"
     ]
    }
   ],
   "source": [
    "a='   One, two, buckle my shoe;           '\n",
    "b='Three, four,     knock at the door.    '\n",
    "c=a.rstrip()\n",
    "print(c,b)"
   ]
  },
  {
   "cell_type": "markdown",
   "id": "40c42b9d-d847-4cd3-bfba-fd83196ec797",
   "metadata": {},
   "source": [
    "### 36.split()\n",
    "#### :splits the string at the specified separator, and returns a list"
   ]
  },
  {
   "cell_type": "code",
   "execution_count": 129,
   "id": "104ba2bb-6645-4966-bfd4-bd3800cbd0b2",
   "metadata": {},
   "outputs": [
    {
     "name": "stdout",
     "output_type": "stream",
     "text": [
      "['Spreads positivity ', ' Be patient my freind.']\n"
     ]
    }
   ],
   "source": [
    "a='Spreads positivity and Be patient my freind.'\n",
    "b=a.split('and')\n",
    "print(b)"
   ]
  },
  {
   "cell_type": "code",
   "execution_count": 131,
   "id": "72238d1a-1672-4869-b687-04e36294c820",
   "metadata": {},
   "outputs": [
    {
     "name": "stdout",
     "output_type": "stream",
     "text": [
      "['1+2=3 ', ' 4*2=8']\n"
     ]
    }
   ],
   "source": [
    "a='1+2=3 ; 4*2=8'\n",
    "b=a.split(';')\n",
    "print(b)"
   ]
  },
  {
   "cell_type": "markdown",
   "id": "6d6db381-3f4a-45a7-8d7f-ba81ae016824",
   "metadata": {},
   "source": [
    "### 37.splitlines()\n",
    "#### : splits the string at line breaks and returns a list"
   ]
  },
  {
   "cell_type": "code",
   "execution_count": 137,
   "id": "79f67f9a-4faa-4e27-b524-e5658d459ccf",
   "metadata": {},
   "outputs": [
    {
     "name": "stdout",
     "output_type": "stream",
     "text": [
      "['Spreads positivity ', ' Be patient my freind.']\n"
     ]
    }
   ],
   "source": [
    "a='Spreads positivity \\n Be patient my freind.'\n",
    "b=a.splitlines()\n",
    "print(b)"
   ]
  },
  {
   "cell_type": "code",
   "execution_count": 153,
   "id": "368b4657-e6f2-4c91-ae74-aedde72524e6",
   "metadata": {},
   "outputs": [
    {
     "name": "stdout",
     "output_type": "stream",
     "text": [
      "['Spreads positivity \\n', ' Be patient my freind.']\n"
     ]
    }
   ],
   "source": [
    "a='Spreads positivity \\n Be patient my freind.'\n",
    "b=a.splitlines(True)\n",
    "print(b)"
   ]
  },
  {
   "cell_type": "code",
   "execution_count": 155,
   "id": "9f393afc-ded7-4622-a708-c1746491246e",
   "metadata": {},
   "outputs": [
    {
     "name": "stdout",
     "output_type": "stream",
     "text": [
      "['Spreads positivity ', ' Be patient my freind.']\n"
     ]
    }
   ],
   "source": [
    "a='Spreads positivity \\n Be patient my freind.'\n",
    "b=a.splitlines(False)\n",
    "print(b)"
   ]
  },
  {
   "cell_type": "markdown",
   "id": "526d88be-3ac4-43f3-afa6-98afb02412e6",
   "metadata": {},
   "source": [
    "### 38.startswith()\n",
    "#### : returns True if the string starts with the specified value, otherwise False."
   ]
  },
  {
   "cell_type": "code",
   "execution_count": 157,
   "id": "8ef31089-a708-4df3-aa73-146b6550e99e",
   "metadata": {},
   "outputs": [
    {
     "name": "stdout",
     "output_type": "stream",
     "text": [
      "False\n"
     ]
    }
   ],
   "source": [
    "a='Humpty Dumpty sat on a wall'\n",
    "b=a.startswith('sat')\n",
    "print(b)"
   ]
  },
  {
   "cell_type": "code",
   "execution_count": 161,
   "id": "40fb0dcc-bade-42ac-9b72-b5d2f110abcc",
   "metadata": {},
   "outputs": [
    {
     "name": "stdout",
     "output_type": "stream",
     "text": [
      "True\n"
     ]
    }
   ],
   "source": [
    "a='Humpty Dumpty sat on a wall'\n",
    "b=a.startswith('H')\n",
    "print(b)"
   ]
  },
  {
   "cell_type": "markdown",
   "id": "f77eb8a8-2b42-45aa-9005-46fc8de84b0b",
   "metadata": {},
   "source": [
    "### 39.strip()\t\n",
    "#### : removes any leading, and trailing whitespaces."
   ]
  },
  {
   "cell_type": "code",
   "execution_count": 167,
   "id": "86141c9e-ead4-4ca6-8e6d-249b574ff102",
   "metadata": {},
   "outputs": [
    {
     "name": "stdout",
     "output_type": "stream",
     "text": [
      "A is for Apple\n"
     ]
    }
   ],
   "source": [
    "a='A is     '\n",
    "b=a.strip()\n",
    "print(b,'for Apple')"
   ]
  },
  {
   "cell_type": "code",
   "execution_count": 169,
   "id": "0134f11a-03a2-4f93-9b1b-258bd7b55851",
   "metadata": {},
   "outputs": [
    {
     "name": "stdout",
     "output_type": "stream",
     "text": [
      "A is      .         . for Apple\n"
     ]
    }
   ],
   "source": [
    "a='           A is      .         .         '\n",
    "b=a.strip()\n",
    "print(b,'for Apple')"
   ]
  },
  {
   "cell_type": "markdown",
   "id": "558ac45c-6725-4d47-a384-b170bf852fac",
   "metadata": {},
   "source": [
    "### 40.swapcase()\n",
    "#### : lower case becomes upper case and vice versa"
   ]
  },
  {
   "cell_type": "code",
   "execution_count": 181,
   "id": "936b0aec-d2bc-4e7e-b295-b4ea23b47af0",
   "metadata": {},
   "outputs": [
    {
     "name": "stdout",
     "output_type": "stream",
     "text": [
      "sUBSCRRIBE __tO__ mY ___cHANNEL\n"
     ]
    }
   ],
   "source": [
    "a='Subscrribe __To__ My ___Channel'\n",
    "b=a.swapcase()\n",
    "print(b)"
   ]
  },
  {
   "cell_type": "code",
   "execution_count": 183,
   "id": "df371873-3890-4be5-b4f9-7e5b6ead97b7",
   "metadata": {},
   "outputs": [
    {
     "name": "stdout",
     "output_type": "stream",
     "text": [
      "rAIN, raIN, go AWay.cOmE agaIN ANOtheR DAyyyy.\n"
     ]
    }
   ],
   "source": [
    "a='Rain, RAin, GO awAY.CoMe AGAin anoTHEr daYYYY.'\n",
    "b=a.swapcase()\n",
    "print(b)"
   ]
  },
  {
   "cell_type": "markdown",
   "id": "1a1d3bd5-4b87-4bc0-9777-26f877076a5b",
   "metadata": {},
   "source": [
    "### 41.title()\t\n",
    "#### : converts the first character of each word to upper case"
   ]
  },
  {
   "cell_type": "code",
   "execution_count": 189,
   "id": "6e90b1b0-6350-40ce-9174-b3080de59fa9",
   "metadata": {},
   "outputs": [
    {
     "name": "stdout",
     "output_type": "stream",
     "text": [
      "My Grandparents Loves To Watch Devdas Movie\n"
     ]
    }
   ],
   "source": [
    "a='my grandparents loves to watch devdas movie'\n",
    "b=a.title()\n",
    "print(b)"
   ]
  },
  {
   "cell_type": "code",
   "execution_count": 191,
   "id": "dbb214bf-d492-4cae-b473-ed1fd9a3274c",
   "metadata": {},
   "outputs": [
    {
     "name": "stdout",
     "output_type": "stream",
     "text": [
      "Reading Books Is Good Habbit\n"
     ]
    }
   ],
   "source": [
    "a='reading books is good habbit'\n",
    "b=a.title()\n",
    "print(b)"
   ]
  },
  {
   "cell_type": "markdown",
   "id": "aa628e47-4864-4c57-b83c-0acf4e980edc",
   "metadata": {},
   "source": [
    "### 42.translate()\n",
    "#### : returns a string where some specified characters are replaced with the character described in a dictionary, or in a mapping table"
   ]
  },
  {
   "cell_type": "code",
   "execution_count": 31,
   "id": "c9a14241-e405-4e58-a821-db7d71ca586f",
   "metadata": {},
   "outputs": [
    {
     "name": "stdout",
     "output_type": "stream",
     "text": [
      "Chicken Pox\n"
     ]
    }
   ],
   "source": [
    "a={66:80}\n",
    "b='Chicken Box'\n",
    "c=b.translate(a)\n",
    "print(c)"
   ]
  },
  {
   "cell_type": "code",
   "execution_count": 37,
   "id": "7c06a765-e2fb-47ca-b357-babe2c36f3a9",
   "metadata": {},
   "outputs": [
    {
     "name": "stdout",
     "output_type": "stream",
     "text": [
      "Cat eats fish\n"
     ]
    }
   ],
   "source": [
    "a={81:67,87:102}\n",
    "b='Qat eats Wish'\n",
    "c=b.translate(a)\n",
    "print(c)"
   ]
  },
  {
   "cell_type": "markdown",
   "id": "c8463618-e967-41b8-ab87-848f8551a172",
   "metadata": {},
   "source": [
    "### 43.upper()\n",
    "#### : converts a string to upper case"
   ]
  },
  {
   "cell_type": "code",
   "execution_count": 171,
   "id": "0ee04a3a-6cb0-47ce-9d4d-f619410f2d7b",
   "metadata": {},
   "outputs": [
    {
     "name": "stdout",
     "output_type": "stream",
     "text": [
      "ONE, TWO, BUCKLE MY SHOE\n"
     ]
    }
   ],
   "source": [
    "a='One, Two, Buckle My Shoe'\n",
    "b=a.upper()\n",
    "print(b)"
   ]
  },
  {
   "cell_type": "code",
   "execution_count": 173,
   "id": "68566dd8-38b7-46ee-9f01-0f1f2ea1dab7",
   "metadata": {},
   "outputs": [
    {
     "name": "stdout",
     "output_type": "stream",
     "text": [
      "BAA, BAA, BLACK SHEEP, HAVE YOU ANY WOOL? YES, SIR, YES, SIR, THREE BAGS FULL\n"
     ]
    }
   ],
   "source": [
    "a='Baa, baa, black sheep, have you any wool? Yes, sir, yes, sir, three bags full'\n",
    "b=a.upper()\n",
    "print(b)"
   ]
  },
  {
   "cell_type": "markdown",
   "id": "0752a1a2-b190-4f88-90a2-03ebeb8e3d04",
   "metadata": {},
   "source": [
    "### 44.zfill()\n",
    "#### : fills the string with a specified number of 0 values at the beginning"
   ]
  },
  {
   "cell_type": "code",
   "execution_count": 201,
   "id": "8b68dced-9e7d-4cc3-a69c-9931faa82390",
   "metadata": {},
   "outputs": [
    {
     "name": "stdout",
     "output_type": "stream",
     "text": [
      "001\n"
     ]
    }
   ],
   "source": [
    "a='1'\n",
    "b=a.zfill(3)\n",
    "print(b)"
   ]
  },
  {
   "cell_type": "code",
   "execution_count": 217,
   "id": "f9d89ba9-994e-4122-8bbf-6921dd5002a2",
   "metadata": {},
   "outputs": [
    {
     "name": "stdout",
     "output_type": "stream",
     "text": [
      "000000000000000000000000000000000000000000000000000000000yesterday we installed Python in our system\n"
     ]
    }
   ],
   "source": [
    "a='yesterday we installed Python in our system'\n",
    "b=a.zfill(100)\n",
    "print(b)"
   ]
  },
  {
   "cell_type": "code",
   "execution_count": 213,
   "id": "46e62033-443b-489e-ac30-5aa63982e73a",
   "metadata": {},
   "outputs": [
    {
     "name": "stdout",
     "output_type": "stream",
     "text": [
      "000000What\n"
     ]
    }
   ],
   "source": [
    "a='What'\n",
    "b=a.zfill(10)\n",
    "print(b)"
   ]
  }
 ],
 "metadata": {
  "kernelspec": {
   "display_name": "Python 3 (ipykernel)",
   "language": "python",
   "name": "python3"
  },
  "language_info": {
   "codemirror_mode": {
    "name": "ipython",
    "version": 3
   },
   "file_extension": ".py",
   "mimetype": "text/x-python",
   "name": "python",
   "nbconvert_exporter": "python",
   "pygments_lexer": "ipython3",
   "version": "3.12.4"
  }
 },
 "nbformat": 4,
 "nbformat_minor": 5
}
