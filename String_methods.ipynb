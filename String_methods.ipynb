{
 "cells": [
  {
   "cell_type": "markdown",
   "id": "99423029-862d-419e-a32b-f5935972aa02",
   "metadata": {},
   "source": [
    "***\n",
    "# STRING METHODS\n",
    "***"
   ]
  },
  {
   "cell_type": "markdown",
   "id": "11238a71-064b-4104-a3cb-2ce6e02d9e51",
   "metadata": {},
   "source": [
    "### 1.Capitalize():First letter is capatalize here. "
   ]
  },
  {
   "cell_type": "code",
   "execution_count": 43,
   "id": "bbae969d-c136-4a26-b544-d4021a8d2874",
   "metadata": {},
   "outputs": [
    {
     "name": "stdout",
     "output_type": "stream",
     "text": [
      "1.twinkle twinkle, little star\n"
     ]
    }
   ],
   "source": [
    "a='1.twinkle twinkle, little star'\n",
    "b = a.capitalize()\n",
    "print(b)"
   ]
  },
  {
   "cell_type": "code",
   "execution_count": 41,
   "id": "fc79dd6d-0d11-4f35-a1ac-a43ce5bd93c0",
   "metadata": {},
   "outputs": [
    {
     "name": "stdout",
     "output_type": "stream",
     "text": [
      "2.python\n"
     ]
    }
   ],
   "source": [
    "Py='2.python'\n",
    "jupyter=Py.capitalize()\n",
    "print(jupyter)"
   ]
  },
  {
   "cell_type": "markdown",
   "id": "304a21a3-5cbd-4fa5-b4ba-5eaff11514f8",
   "metadata": {},
   "source": [
    "### 2.Casefold(): makes string to lower case"
   ]
  },
  {
   "cell_type": "code",
   "execution_count": 37,
   "id": "da20f9f4-3fe0-4a67-ad24-0639089553bc",
   "metadata": {},
   "outputs": [
    {
     "name": "stdout",
     "output_type": "stream",
     "text": [
      "1.a_b_c_d_e_f_g_h\n"
     ]
    }
   ],
   "source": [
    "a='1.A_B_C_D_E_F_G_H'\n",
    "b = a.casefold()\n",
    "print(b)"
   ]
  },
  {
   "cell_type": "code",
   "execution_count": 39,
   "id": "ecfdae22-41fd-4632-a5d0-295b346bbbdd",
   "metadata": {},
   "outputs": [
    {
     "name": "stdout",
     "output_type": "stream",
     "text": [
      "2.sakshi sunil barai\n"
     ]
    }
   ],
   "source": [
    "Name='2.SAKSHI SUNIL BARAI'\n",
    "Lower=Name.casefold()\n",
    "print(Lower)"
   ]
  },
  {
   "cell_type": "markdown",
   "id": "152bf872-42d0-470c-98d7-16effba14a60",
   "metadata": {},
   "source": [
    "### 3. Center(): it will center align the string,we have to pass values inside round brackets"
   ]
  },
  {
   "cell_type": "code",
   "execution_count": 27,
   "id": "bb36006d-1f6e-4234-8147-c2df9895fb69",
   "metadata": {},
   "outputs": [
    {
     "name": "stdout",
     "output_type": "stream",
     "text": [
      " 1.A_B_C_D_E_F_G_H  \n"
     ]
    }
   ],
   "source": [
    "a='1.A_B_C_D_E_F_G_H'\n",
    "b = a.center(20)\n",
    "print(b) "
   ]
  },
  {
   "cell_type": "code",
   "execution_count": 29,
   "id": "eb285304-71cf-4a4d-a5ed-1ea56c930c97",
   "metadata": {},
   "outputs": [
    {
     "name": "stdout",
     "output_type": "stream",
     "text": [
      "                                          2.A is for Apple                                          \n"
     ]
    }
   ],
   "source": [
    "a='2.A is for Apple'\n",
    "b = a.center(100)\n",
    "print(b)"
   ]
  },
  {
   "cell_type": "markdown",
   "id": "8c8b7dc1-3dfd-4952-be1a-9b305073f076",
   "metadata": {},
   "source": [
    "### 4.Count(): returns the number of times a specified value occurs in a string"
   ]
  },
  {
   "cell_type": "code",
   "execution_count": 51,
   "id": "c86080c1-3fb2-4a8e-97bd-a0e9f1e06d69",
   "metadata": {},
   "outputs": [
    {
     "name": "stdout",
     "output_type": "stream",
     "text": [
      "3\n"
     ]
    }
   ],
   "source": [
    "Twister='1.Fuzzy Wuzzy was a bear. Fuzzy Wuzzy had no hair. Fuzzy Wuzzy wasn’t fuzzy, was he?'\n",
    "result=Twister.count('Fuzzy')\n",
    "print(result)"
   ]
  },
  {
   "cell_type": "code",
   "execution_count": 57,
   "id": "d4201cda-3ad6-453e-86ca-1773ec5e1229",
   "metadata": {},
   "outputs": [
    {
     "name": "stdout",
     "output_type": "stream",
     "text": [
      "2\n"
     ]
    }
   ],
   "source": [
    "twister= '2.Betty Botter bought some butter But she said the butter’s bitter If I put it in my batter, it will make my batter bitter But a bit of better butter will make my batter better'\n",
    "result=twister.count('bitter')\n",
    "print(result)"
   ]
  },
  {
   "cell_type": "markdown",
   "id": "3a066093-ba96-485d-85b4-ecd42812fa01",
   "metadata": {},
   "source": [
    "### 5.Encode(): returns an encoded version of the string. "
   ]
  },
  {
   "cell_type": "code",
   "execution_count": 92,
   "id": "1cc37de4-070e-4750-af03-c5e3095e577e",
   "metadata": {},
   "outputs": [
    {
     "name": "stdout",
     "output_type": "stream",
     "text": [
      "b'S\\xc3\\xa5ksh#'\n"
     ]
    }
   ],
   "source": [
    "a= 'Såksh#'\n",
    "result=a.encode()\n",
    "print(result)"
   ]
  },
  {
   "cell_type": "code",
   "execution_count": 94,
   "id": "28766bc4-4c2d-4578-844d-da19887f4fbe",
   "metadata": {},
   "outputs": [
    {
     "name": "stdout",
     "output_type": "stream",
     "text": [
      "b'S\\\\N{LATIN SMALL LETTER A WITH RING ABOVE}kshi@'\n"
     ]
    }
   ],
   "source": [
    "a= 'Såkshi@'\n",
    "result=a.encode(encoding='ascii',errors='namereplace')\n",
    "print(result)"
   ]
  },
  {
   "cell_type": "markdown",
   "id": "2d0036a6-168d-446e-90e3-f3ab0c5fc0d7",
   "metadata": {},
   "source": [
    "### 6.Endswith(): returns true if the string ends with the specified value."
   ]
  },
  {
   "cell_type": "code",
   "execution_count": 4,
   "id": "de3912a8-237c-447a-84a9-4554d6d9d4f7",
   "metadata": {},
   "outputs": [
    {
     "name": "stdout",
     "output_type": "stream",
     "text": [
      "True\n"
     ]
    }
   ],
   "source": [
    "a='Sakshi.'\n",
    "b=a.endswith('.')\n",
    "print(b)"
   ]
  },
  {
   "cell_type": "code",
   "execution_count": 20,
   "id": "4ca76dd4-8378-49bf-b94a-dbcbe0e2d197",
   "metadata": {},
   "outputs": [
    {
     "name": "stdout",
     "output_type": "stream",
     "text": [
      "True\n"
     ]
    }
   ],
   "source": [
    "a='Helloooo!!!'\n",
    "b=a.endswith('!')\n",
    "print(b)"
   ]
  },
  {
   "cell_type": "markdown",
   "id": "7bd4b437-775b-4ee3-ac7f-f5f47e6b10ae",
   "metadata": {},
   "source": [
    "### 7.ExpandTabs()"
   ]
  },
  {
   "cell_type": "code",
   "execution_count": 23,
   "id": "63808e96-6b12-4c52-826c-ee4abc3c67d9",
   "metadata": {},
   "outputs": [
    {
     "name": "stdout",
     "output_type": "stream",
     "text": [
      "a       b       c       d       e       f       g\n"
     ]
    }
   ],
   "source": [
    "a='a\\tb\\tc\\td\\te\\tf\\tg'\n",
    "b=a.expandtabs()\n",
    "print(b)"
   ]
  },
  {
   "cell_type": "code",
   "execution_count": 31,
   "id": "c96e3033-feb8-492d-862a-64b7dcbc9ecf",
   "metadata": {},
   "outputs": [
    {
     "name": "stdout",
     "output_type": "stream",
     "text": [
      "twinkle             twinkle             little              star.\n"
     ]
    }
   ],
   "source": [
    "a='twinkle\\ttwinkle\\tlittle\\tstar.'\n",
    "b=a.expandtabs(20)\n",
    "print(b)"
   ]
  },
  {
   "cell_type": "markdown",
   "id": "8a891092-8446-41c6-b0ee-730a8246791c",
   "metadata": {},
   "source": [
    "### 8.Find()"
   ]
  },
  {
   "cell_type": "code",
   "execution_count": 40,
   "id": "c99d6485-a528-4dc6-8021-158f366cb99d",
   "metadata": {},
   "outputs": [
    {
     "name": "stdout",
     "output_type": "stream",
     "text": [
      "11\n"
     ]
    }
   ],
   "source": [
    "a='The wheels on the bus go Round and round all through the town'\n",
    "b=a.find('on')\n",
    "print(b)"
   ]
  },
  {
   "cell_type": "code",
   "execution_count": 50,
   "id": "0700b0f0-32b4-4890-86d1-2719778acf34",
   "metadata": {},
   "outputs": [
    {
     "name": "stdout",
     "output_type": "stream",
     "text": [
      "12\n"
     ]
    }
   ],
   "source": [
    "a='   _  abcdfd@gmail.com'\n",
    "b=a.find('@')\n",
    "print(b)"
   ]
  },
  {
   "cell_type": "markdown",
   "id": "8a81dcf8-22e2-4569-bd65-5486a2b6a92e",
   "metadata": {},
   "source": [
    "### 9.Format()"
   ]
  },
  {
   "cell_type": "markdown",
   "id": "e220fabd-30f7-495f-b92b-38267c6ac556",
   "metadata": {},
   "source": [
    "a='medicine costs is {price:.2f} Rupees'\n",
    "b=a.format(price=1299)\n",
    "print(b)"
   ]
  },
  {
   "cell_type": "code",
   "execution_count": 75,
   "id": "867611d6-e4e3-4193-a3a5-b712befa6bf3",
   "metadata": {},
   "outputs": [
    {
     "name": "stdout",
     "output_type": "stream",
     "text": [
      "My name is Sakshi ,i am 22 years old.\n"
     ]
    }
   ],
   "source": [
    "a='My name is {name} ,i am {age} years old.'\n",
    "b=a.format(name='Sakshi',age=22)\n",
    "print(b)"
   ]
  },
  {
   "cell_type": "markdown",
   "id": "bb7f33df-fcc3-48e2-947a-8650500ea8d0",
   "metadata": {},
   "source": [
    "### 10.Index()\n"
   ]
  },
  {
   "cell_type": "code",
   "execution_count": 81,
   "id": "d3fe1100-3297-49e9-bdd9-65356652dcd6",
   "metadata": {},
   "outputs": [
    {
     "name": "stdout",
     "output_type": "stream",
     "text": [
      "7\n"
     ]
    }
   ],
   "source": [
    "a='PYTHON Jupyter Notebook'\n",
    "b=a.index('Jupyter')\n",
    "print(b)"
   ]
  },
  {
   "cell_type": "code",
   "execution_count": 83,
   "id": "d916fc49-f785-4609-b468-476cdb3d968c",
   "metadata": {},
   "outputs": [
    {
     "name": "stdout",
     "output_type": "stream",
     "text": [
      "19\n"
     ]
    }
   ],
   "source": [
    "a='PYTHON Jupyter Notebook'\n",
    "b=a.index('book')\n",
    "print(b)"
   ]
  },
  {
   "cell_type": "code",
   "execution_count": 93,
   "id": "3fb6cecf-9750-4b0b-802d-166044893c9c",
   "metadata": {},
   "outputs": [
    {
     "name": "stdout",
     "output_type": "stream",
     "text": [
      "0\n"
     ]
    }
   ],
   "source": [
    "a='PYTHON Jupyter Notebook'\n",
    "b=a.index('PY')\n",
    "print(b)"
   ]
  },
  {
   "cell_type": "markdown",
   "id": "92d5e1dd-fdfe-4848-9297-1ea32261d6b4",
   "metadata": {},
   "source": [
    "### 11.isalnum()"
   ]
  },
  {
   "cell_type": "code",
   "execution_count": 111,
   "id": "41f7c138-f26a-4bad-9198-90cd2f2d9e84",
   "metadata": {},
   "outputs": [
    {
     "name": "stdout",
     "output_type": "stream",
     "text": [
      "True\n"
     ]
    }
   ],
   "source": [
    "a='Vadapav'\n",
    "b=a.isalnum()\n",
    "print(b)"
   ]
  },
  {
   "cell_type": "code",
   "execution_count": 115,
   "id": "ab4902f5-267f-4339-bb07-ad07999df261",
   "metadata": {},
   "outputs": [
    {
     "name": "stdout",
     "output_type": "stream",
     "text": [
      "False\n"
     ]
    }
   ],
   "source": [
    "a='!@**^abcdefg'\n",
    "b=a.isalnum()\n",
    "print(b)"
   ]
  },
  {
   "cell_type": "markdown",
   "id": "d60294ad-42cb-42eb-b42f-195db36eb910",
   "metadata": {},
   "source": [
    "### 12.Isalpha()"
   ]
  },
  {
   "cell_type": "code",
   "execution_count": 123,
   "id": "b3245502-7e9a-4c36-ad1e-b91437d91a57",
   "metadata": {},
   "outputs": [
    {
     "name": "stdout",
     "output_type": "stream",
     "text": [
      "True\n"
     ]
    }
   ],
   "source": [
    "a='LaughterChefs'\n",
    "b=a.isalpha()\n",
    "print(b)"
   ]
  },
  {
   "cell_type": "code",
   "execution_count": 125,
   "id": "b0bd2833-9e78-4a49-8ac1-32972ba2c225",
   "metadata": {},
   "outputs": [
    {
     "name": "stdout",
     "output_type": "stream",
     "text": [
      "False\n"
     ]
    }
   ],
   "source": [
    "a='Laughter_Chefs'\n",
    "b=a.isalpha()\n",
    "print(b)"
   ]
  },
  {
   "cell_type": "markdown",
   "id": "6994c88e-73ca-44cc-8743-fc6ce23e5d66",
   "metadata": {},
   "source": [
    "### 13.isascii()"
   ]
  },
  {
   "cell_type": "code",
   "execution_count": 127,
   "id": "e2e66906-75c4-44b4-8519-ed69a0e40ce4",
   "metadata": {},
   "outputs": [
    {
     "name": "stdout",
     "output_type": "stream",
     "text": [
      "True\n"
     ]
    }
   ],
   "source": [
    "a='AaBbCcddddd'\n",
    "b=a.isascii()\n",
    "print(b)"
   ]
  },
  {
   "cell_type": "code",
   "execution_count": 131,
   "id": "0f0c31fa-dc6c-42ca-8263-8cbb1f2b8826",
   "metadata": {},
   "outputs": [
    {
     "name": "stdout",
     "output_type": "stream",
     "text": [
      "True\n"
     ]
    }
   ],
   "source": [
    "a='Aa@Bb$1234'\n",
    "b=a.isascii()\n",
    "print(b)"
   ]
  },
  {
   "cell_type": "markdown",
   "id": "c38b7314-eb6e-4f94-9094-235022b79a39",
   "metadata": {},
   "source": [
    "### 14.isdecimal()"
   ]
  },
  {
   "cell_type": "code",
   "execution_count": 135,
   "id": "8d550849-f12b-4a7f-8e51-095aecd39b0f",
   "metadata": {},
   "outputs": [
    {
     "name": "stdout",
     "output_type": "stream",
     "text": [
      "False\n"
     ]
    }
   ],
   "source": [
    "a='S.a.k.s.h.i'\n",
    "b=a.isdecimal()\n",
    "print(b)"
   ]
  },
  {
   "cell_type": "code",
   "execution_count": 141,
   "id": "8131eb3a-0723-47ad-83d1-817aa87716fb",
   "metadata": {},
   "outputs": [
    {
     "name": "stdout",
     "output_type": "stream",
     "text": [
      "True\n"
     ]
    }
   ],
   "source": [
    "a='2345678'\n",
    "b=a.isdecimal()\n",
    "print(b)"
   ]
  },
  {
   "cell_type": "markdown",
   "id": "3b474a9b-2091-46ad-9bbd-e57b7164c61f",
   "metadata": {},
   "source": [
    "### 15.isdigit()"
   ]
  },
  {
   "cell_type": "code",
   "execution_count": 143,
   "id": "b3a00789-620b-4e06-be70-8d29bf219e3e",
   "metadata": {},
   "outputs": [
    {
     "name": "stdout",
     "output_type": "stream",
     "text": [
      "False\n"
     ]
    }
   ],
   "source": [
    "a='14Sak'\n",
    "b=a.isdigit()\n",
    "print(b)"
   ]
  },
  {
   "cell_type": "code",
   "execution_count": 145,
   "id": "84c13a4e-be8c-4441-91fd-8b41f1c0d843",
   "metadata": {},
   "outputs": [
    {
     "name": "stdout",
     "output_type": "stream",
     "text": [
      "True\n"
     ]
    }
   ],
   "source": [
    "a='2024'\n",
    "b=a.isdigit()\n",
    "print(b)"
   ]
  },
  {
   "cell_type": "code",
   "execution_count": 147,
   "id": "bd098e2d-bc80-4261-9b22-61c204a9f43e",
   "metadata": {},
   "outputs": [
    {
     "name": "stdout",
     "output_type": "stream",
     "text": [
      "False\n"
     ]
    }
   ],
   "source": [
    "a='29/09/2024'\n",
    "b=a.isdigit()\n",
    "print(b)"
   ]
  },
  {
   "cell_type": "markdown",
   "id": "f41ff234-c49f-4a5c-83ee-73b56e92bba9",
   "metadata": {},
   "source": [
    "### 16.isidentifier()"
   ]
  },
  {
   "cell_type": "code",
   "execution_count": 165,
   "id": "2943e78f-e1b5-414b-bd13-2bd8a9313558",
   "metadata": {},
   "outputs": [
    {
     "name": "stdout",
     "output_type": "stream",
     "text": [
      "False\n"
     ]
    }
   ],
   "source": [
    "a='@'\n",
    "b=a.isidentifier()\n",
    "print(b)"
   ]
  },
  {
   "cell_type": "code",
   "execution_count": 153,
   "id": "21f7a3d0-f2bd-428c-bf6a-20874f471bc0",
   "metadata": {},
   "outputs": [
    {
     "name": "stdout",
     "output_type": "stream",
     "text": [
      "True\n"
     ]
    }
   ],
   "source": [
    "a='and'\n",
    "b=a.isidentifier()\n",
    "print(b)"
   ]
  },
  {
   "cell_type": "code",
   "execution_count": 157,
   "id": "86ad12fd-f9cd-4b1f-8fb0-61d358f736b8",
   "metadata": {},
   "outputs": [
    {
     "name": "stdout",
     "output_type": "stream",
     "text": [
      "True\n"
     ]
    }
   ],
   "source": [
    "a='from'\n",
    "b=a.isidentifier()\n",
    "print(b)"
   ]
  },
  {
   "cell_type": "markdown",
   "id": "ad45fd15-1162-4bbe-8471-17cd42b5dce9",
   "metadata": {},
   "source": [
    "### 17.islower()"
   ]
  },
  {
   "cell_type": "code",
   "execution_count": 171,
   "id": "6ad22a1c-2249-4e37-aef1-4b141f5cec3a",
   "metadata": {},
   "outputs": [
    {
     "name": "stdout",
     "output_type": "stream",
     "text": [
      "False\n"
     ]
    }
   ],
   "source": [
    "a='We LOVE our INDIA'\n",
    "b=a.islower()\n",
    "print(b)"
   ]
  },
  {
   "cell_type": "code",
   "execution_count": 173,
   "id": "38732044-132c-4cf2-aaa8-03376d1f6e6c",
   "metadata": {},
   "outputs": [
    {
     "name": "stdout",
     "output_type": "stream",
     "text": [
      "True\n"
     ]
    }
   ],
   "source": [
    "a='we love our india'\n",
    "b=a.islower()\n",
    "print(b)"
   ]
  },
  {
   "cell_type": "markdown",
   "id": "fdabdcf9-e6f0-4993-b91c-e8729cb9f648",
   "metadata": {},
   "source": [
    "### 18.isnumeric()"
   ]
  },
  {
   "cell_type": "code",
   "execution_count": 181,
   "id": "a88422bd-3304-4e53-ae0c-ee33b240de6b",
   "metadata": {},
   "outputs": [
    {
     "name": "stdout",
     "output_type": "stream",
     "text": [
      "True\n"
     ]
    }
   ],
   "source": [
    "a='1234000'\n",
    "b=a.isnumeric()\n",
    "print(b)"
   ]
  },
  {
   "cell_type": "code",
   "execution_count": 183,
   "id": "c15994ac-74f4-4a0d-9b18-b2d11e39d765",
   "metadata": {},
   "outputs": [
    {
     "name": "stdout",
     "output_type": "stream",
     "text": [
      "False\n"
     ]
    }
   ],
   "source": [
    "a='1234,000'\n",
    "b=a.isnumeric()\n",
    "print(b)"
   ]
  },
  {
   "cell_type": "markdown",
   "id": "f4aa89b3-db73-4768-a32e-1aa09f519a6b",
   "metadata": {},
   "source": [
    "### 19.isprintable()\n"
   ]
  },
  {
   "cell_type": "code",
   "execution_count": 186,
   "id": "bf89d04a-6cff-4eb4-9e9b-1133730aaaa4",
   "metadata": {},
   "outputs": [
    {
     "name": "stdout",
     "output_type": "stream",
     "text": [
      "True\n"
     ]
    }
   ],
   "source": [
    "a='Am i printable? I think Yess!!!'\n",
    "b=a.isprintable()\n",
    "print(b)"
   ]
  },
  {
   "cell_type": "code",
   "execution_count": 192,
   "id": "d2c0bb04-acef-4df1-82fc-01ced54424fd",
   "metadata": {},
   "outputs": [
    {
     "name": "stdout",
     "output_type": "stream",
     "text": [
      "False\n"
     ]
    }
   ],
   "source": [
    "a='Am i \\t printable? '\n",
    "b=a.isprintable()\n",
    "print(b)"
   ]
  },
  {
   "cell_type": "markdown",
   "id": "3bcf32fd-236f-4ad0-b1a7-e5692d7bd389",
   "metadata": {},
   "source": [
    "### 20.isspace()"
   ]
  },
  {
   "cell_type": "code",
   "execution_count": 196,
   "id": "c889f1de-d044-49e5-881d-6b5e8bf70ce7",
   "metadata": {},
   "outputs": [
    {
     "name": "stdout",
     "output_type": "stream",
     "text": [
      "False\n"
     ]
    }
   ],
   "source": [
    "a='A     B      C    D'\n",
    "b=a.isspace()\n",
    "print(b)"
   ]
  },
  {
   "cell_type": "code",
   "execution_count": 198,
   "id": "305fd305-4690-443b-8bc1-eb214933ab42",
   "metadata": {},
   "outputs": [
    {
     "name": "stdout",
     "output_type": "stream",
     "text": [
      "True\n"
     ]
    }
   ],
   "source": [
    "a='      '\n",
    "b=a.isspace()\n",
    "print(b)"
   ]
  },
  {
   "cell_type": "markdown",
   "id": "1475888e-b82d-4ed4-80b5-4fca5b1661f0",
   "metadata": {},
   "source": [
    "### 21.istitle"
   ]
  },
  {
   "cell_type": "code",
   "execution_count": 210,
   "id": "315f605f-1b74-4d7e-ac17-72b731ab7ab8",
   "metadata": {},
   "outputs": [
    {
     "name": "stdout",
     "output_type": "stream",
     "text": [
      "False\n"
     ]
    }
   ],
   "source": [
    "a='The Wheels on the Bus.'\n",
    "b=a.istitle()\n",
    "print(b)"
   ]
  },
  {
   "cell_type": "code",
   "execution_count": 212,
   "id": "2f67aa97-86c3-4d2b-a6e2-b51ff6d94298",
   "metadata": {},
   "outputs": [
    {
     "name": "stdout",
     "output_type": "stream",
     "text": [
      "True\n"
     ]
    }
   ],
   "source": [
    "a='The Wheels On The Bus.'\n",
    "b=a.istitle()\n",
    "print(b)"
   ]
  },
  {
   "cell_type": "markdown",
   "id": "0a6262fb-d45a-4433-9151-51e6b224d395",
   "metadata": {},
   "source": [
    "### 22.isupper()"
   ]
  },
  {
   "cell_type": "code",
   "execution_count": 214,
   "id": "a3371924-b36c-4545-80ec-96ffca638c11",
   "metadata": {},
   "outputs": [
    {
     "name": "stdout",
     "output_type": "stream",
     "text": [
      "False\n"
     ]
    }
   ],
   "source": [
    "a='Twinkle Twinkle'\n",
    "b=a.isupper()\n",
    "print(b)"
   ]
  },
  {
   "cell_type": "code",
   "execution_count": 216,
   "id": "c9aedfdf-c398-4975-bc70-1ac7db0082bc",
   "metadata": {},
   "outputs": [
    {
     "name": "stdout",
     "output_type": "stream",
     "text": [
      "True\n"
     ]
    }
   ],
   "source": [
    "a='TWINKLE TWINKLE'\n",
    "b=a.isupper()\n",
    "print(b)"
   ]
  },
  {
   "cell_type": "markdown",
   "id": "82aaf70f-9107-4f41-b0da-97bfbe6a417b",
   "metadata": {},
   "source": [
    "### 23.join()"
   ]
  },
  {
   "cell_type": "code",
   "execution_count": 218,
   "id": "77fd8a73-5890-44c5-87bc-921cf0f33fbb",
   "metadata": {},
   "outputs": [
    {
     "name": "stdout",
     "output_type": "stream",
     "text": [
      "Apple---Banana---Cat\n"
     ]
    }
   ],
   "source": [
    "a=('Apple','Banana','Cat')\n",
    "b='---'.join(a)\n",
    "print(b)"
   ]
  },
  {
   "cell_type": "code",
   "execution_count": 220,
   "id": "bb3a3c84-af06-4573-a9b5-efec12e05728",
   "metadata": {},
   "outputs": [
    {
     "name": "stdout",
     "output_type": "stream",
     "text": [
      "12345678__2345678__345678__45678__5678__678__78__8\n"
     ]
    }
   ],
   "source": [
    "a=('12345678','2345678','345678','45678','5678','678','78','8')\n",
    "b='__'.join(a)\n",
    "print(b)"
   ]
  },
  {
   "cell_type": "markdown",
   "id": "55d66004-06fa-4393-845c-af417893b1d5",
   "metadata": {},
   "source": [
    "### 24.ljust()"
   ]
  },
  {
   "cell_type": "code",
   "execution_count": 236,
   "id": "2dc1c669-fab9-4eb1-98cb-4bbafe3dad4d",
   "metadata": {},
   "outputs": [
    {
     "name": "stdout",
     "output_type": "stream",
     "text": [
      "Ambani     are rich people.\n"
     ]
    }
   ],
   "source": [
    "a='Ambani'\n",
    "b=a.ljust(10)\n",
    "print(b,'are rich people.')"
   ]
  },
  {
   "cell_type": "code",
   "execution_count": 240,
   "id": "d4be84f0-5be1-4abf-a1fa-db1c42c3fbac",
   "metadata": {},
   "outputs": [
    {
     "name": "stdout",
     "output_type": "stream",
     "text": [
      "Peocock                                   :is national bird.\n"
     ]
    }
   ],
   "source": [
    "a='Peocock'\n",
    "b=a.ljust(40)\n",
    "print(b,' :is national bird.')"
   ]
  },
  {
   "cell_type": "markdown",
   "id": "b1f02518-111d-473a-8f34-3848cf3fcb9d",
   "metadata": {},
   "source": [
    "### 25.lower()"
   ]
  },
  {
   "cell_type": "code",
   "execution_count": 250,
   "id": "e868cf30-1203-45bf-b5f7-3448d7fea6a2",
   "metadata": {},
   "outputs": [
    {
     "name": "stdout",
     "output_type": "stream",
     "text": [
      "abcd\n"
     ]
    }
   ],
   "source": [
    "a='ABCD'\n",
    "b=a.lower()\n",
    "print(b)"
   ]
  },
  {
   "cell_type": "code",
   "execution_count": 252,
   "id": "54fdddff-9a05-4141-8198-2fcac7044e96",
   "metadata": {},
   "outputs": [
    {
     "name": "stdout",
     "output_type": "stream",
     "text": [
      "i love my india\n"
     ]
    }
   ],
   "source": [
    "a='I LOVE MY INDIA'\n",
    "b=a.lower()\n",
    "print(b)"
   ]
  }
 ],
 "metadata": {
  "kernelspec": {
   "display_name": "Python 3 (ipykernel)",
   "language": "python",
   "name": "python3"
  },
  "language_info": {
   "codemirror_mode": {
    "name": "ipython",
    "version": 3
   },
   "file_extension": ".py",
   "mimetype": "text/x-python",
   "name": "python",
   "nbconvert_exporter": "python",
   "pygments_lexer": "ipython3",
   "version": "3.12.4"
  }
 },
 "nbformat": 4,
 "nbformat_minor": 5
}
